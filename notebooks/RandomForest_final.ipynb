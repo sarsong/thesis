{
  "cells": [
    {
      "cell_type": "markdown",
      "source": [
        "# Imports"
      ],
      "metadata": {
        "id": "l9ETGlq-qVSK"
      }
    },
    {
      "cell_type": "code",
      "execution_count": 14,
      "metadata": {
        "id": "brcbJe5SQq-l"
      },
      "outputs": [],
      "source": [
        "from sklearn.model_selection import train_test_split, GridSearchCV, RandomizedSearchCV\n",
        "from sklearn.ensemble import RandomForestClassifier\n",
        "from sklearn.metrics import accuracy_score, classification_report, roc_curve, auc\n",
        "\n",
        "import numpy as np\n",
        "import cv2\n",
        "import os\n",
        "import numpy as np\n",
        "import pandas as pd\n",
        "import matplotlib.pyplot as plt\n",
        "import pickle\n",
        "\n",
        "import xgboost as xgb\n",
        "\n",
        "from PIL import Image"
      ]
    },
    {
      "cell_type": "markdown",
      "source": [
        "# Set Random Seed"
      ],
      "metadata": {
        "id": "wj-f9a0AqW87"
      }
    },
    {
      "cell_type": "code",
      "execution_count": 15,
      "metadata": {
        "id": "wZUIYS6Yj8Tl"
      },
      "outputs": [],
      "source": [
        "import random\n",
        "random.seed(7)\n",
        "\n",
        "np.random.seed(7)"
      ]
    },
    {
      "cell_type": "markdown",
      "metadata": {
        "id": "ZqD-axjWRAQe"
      },
      "source": [
        "# Load Images"
      ]
    },
    {
      "cell_type": "code",
      "execution_count": 16,
      "metadata": {
        "colab": {
          "base_uri": "https://localhost:8080/"
        },
        "id": "XzNj6tyVQ8yj",
        "outputId": "af5e0e17-8109-4453-9ef0-3892de725dc3"
      },
      "outputs": [
        {
          "output_type": "stream",
          "name": "stdout",
          "text": [
            "(10569, 11250)\n"
          ]
        }
      ],
      "source": [
        "with open('/content/drive/My Drive/thesis/naip_chm_mask_3d.pkl', 'rb') as f:\n",
        "    naip_chm_mask_3d = pickle.load(f)\n",
        "    naip_chm_mask_3d = naip_chm_mask_3d[:,:,1]\n",
        "    print(naip_chm_mask_3d.shape)"
      ]
    },
    {
      "cell_type": "code",
      "execution_count": 17,
      "metadata": {
        "colab": {
          "base_uri": "https://localhost:8080/"
        },
        "id": "iyw_nZXWROp-",
        "outputId": "3c2ef1e4-a23f-4c82-9f69-bce92810ae7c"
      },
      "outputs": [
        {
          "output_type": "stream",
          "name": "stderr",
          "text": [
            "/usr/local/lib/python3.10/dist-packages/PIL/Image.py:3167: DecompressionBombWarning: Image size (118901250 pixels) exceeds limit of 89478485 pixels, could be decompression bomb DOS attack.\n",
            "  warnings.warn(\n"
          ]
        },
        {
          "output_type": "stream",
          "name": "stdout",
          "text": [
            "(10569, 11250, 3)\n"
          ]
        }
      ],
      "source": [
        "# load the image\n",
        "naip_natural_tiff = Image.open('/content/drive/MyDrive/thesis/training_images/naip_natural_.tif')\n",
        "\n",
        "naip_natural_array = np.array(naip_natural_tiff)\n",
        "print(naip_natural_array.shape)"
      ]
    },
    {
      "cell_type": "code",
      "execution_count": 18,
      "metadata": {
        "id": "pPScrsfRRRYr"
      },
      "outputs": [],
      "source": [
        "binary_mask = np.where(naip_chm_mask_3d, 255, 0)"
      ]
    },
    {
      "cell_type": "code",
      "execution_count": 19,
      "metadata": {
        "id": "rxDDNE-iZfSm"
      },
      "outputs": [],
      "source": [
        "pixels = naip_natural_array.reshape(-1, naip_natural_array.shape[2])\n",
        "zero_pixels_mask = np.all(pixels == 0, axis=-1)\n",
        "pixels = pixels[~zero_pixels_mask]\n",
        "\n",
        "binary_labels = (binary_mask.flatten() > 128).astype(int)\n",
        "binary_labels = binary_labels[~zero_pixels_mask]"
      ]
    },
    {
      "cell_type": "code",
      "execution_count": 20,
      "metadata": {
        "colab": {
          "base_uri": "https://localhost:8080/"
        },
        "id": "p_1dfcsyVF9W",
        "outputId": "5c432d43-aaa0-459d-a833-b204ada0429c"
      },
      "outputs": [
        {
          "output_type": "execute_result",
          "data": {
            "text/plain": [
              "(84432689, 3)"
            ]
          },
          "metadata": {},
          "execution_count": 20
        }
      ],
      "source": [
        "pixels.shape"
      ]
    },
    {
      "cell_type": "markdown",
      "metadata": {
        "id": "81I39N6SRZZU"
      },
      "source": [
        "# Training RF Classifier"
      ]
    },
    {
      "cell_type": "markdown",
      "source": [
        "## Grid Search"
      ],
      "metadata": {
        "id": "_dg88XeTql0d"
      }
    },
    {
      "cell_type": "code",
      "execution_count": null,
      "metadata": {
        "colab": {
          "base_uri": "https://localhost:8080/"
        },
        "id": "J0bOGu09k8Bp",
        "outputId": "7203b05e-78d0-4972-8818-5bd278245e64"
      },
      "outputs": [
        {
          "metadata": {
            "tags": null
          },
          "name": "stdout",
          "output_type": "stream",
          "text": [
            "Fitting 3 folds for each of 25 candidates, totalling 75 fits\n"
          ]
        }
      ],
      "source": [
        "X_train, X_test, y_train, y_test = train_test_split(pixels, binary_labels, test_size=0.3, random_state=42)\n",
        "\n",
        "rf = RandomForestClassifier()\n",
        "\n",
        "# parameter grid\n",
        "param_grid = {\n",
        "    'n_estimators': [10, 12, 14, 16, 18],  # Number of trees in the forest\n",
        "    'max_depth': [5, 10, 15, 20, 25],  # Maximum depth of the tree\n",
        "}\n",
        "\n",
        "grid_search = GridSearchCV(estimator=rf, param_grid=param_grid, cv=3, verbose=1, n_jobs=-1)\n",
        "\n",
        "grid_search.fit(X_train, y_train)\n",
        "\n",
        "# best parameters\n",
        "best_params = grid_search.best_params_\n",
        "print(\"Best parameters:\", best_params)"
      ]
    },
    {
      "cell_type": "markdown",
      "source": [
        "## Train Model"
      ],
      "metadata": {
        "id": "Ujt2-ABlqUhM"
      }
    },
    {
      "cell_type": "code",
      "source": [
        "X_train, X_test, y_train, y_test = train_test_split(pixels, binary_labels, test_size=0.3, random_state=42)\n",
        "\n",
        "## Initialize the Random Forest classifier\n",
        "rf_classifier = RandomForestClassifier(n_estimators=14, random_state=42, max_depth=15, verbose=1, n_jobs=-1, class_weight='balanced')\n",
        "\n",
        "# Train the classifier\n",
        "rf_classifier.fit(X_train, y_train)\n",
        "\n",
        "# Predict on the test set\n",
        "y_pred = rf_classifier.predict(X_test)\n",
        "\n",
        "# Evaluate the model\n",
        "accuracy = accuracy_score(y_test, y_pred)"
      ],
      "metadata": {
        "colab": {
          "base_uri": "https://localhost:8080/"
        },
        "id": "4AzQ704JNOaW",
        "outputId": "7f6b013f-121a-47a6-f5ca-0ffff02875d5"
      },
      "execution_count": 9,
      "outputs": [
        {
          "output_type": "stream",
          "name": "stderr",
          "text": [
            "[Parallel(n_jobs=-1)]: Using backend ThreadingBackend with 8 concurrent workers.\n",
            "[Parallel(n_jobs=-1)]: Done  14 out of  14 | elapsed:  8.7min finished\n",
            "[Parallel(n_jobs=8)]: Using backend ThreadingBackend with 8 concurrent workers.\n",
            "[Parallel(n_jobs=8)]: Done  14 out of  14 | elapsed:   14.4s finished\n"
          ]
        }
      ]
    },
    {
      "cell_type": "code",
      "source": [
        "print(f'Accuracy: {accuracy * 100:.2f}%')"
      ],
      "metadata": {
        "colab": {
          "base_uri": "https://localhost:8080/"
        },
        "id": "-_VTIH6uQ0Ld",
        "outputId": "45ccd60e-5741-4762-ff59-94e329518856"
      },
      "execution_count": 10,
      "outputs": [
        {
          "output_type": "stream",
          "name": "stdout",
          "text": [
            "Accuracy: 87.37%\n"
          ]
        }
      ]
    },
    {
      "cell_type": "markdown",
      "source": [
        "# Evaluate Model"
      ],
      "metadata": {
        "id": "Na9omOT-qzPM"
      }
    },
    {
      "cell_type": "code",
      "execution_count": 11,
      "metadata": {
        "colab": {
          "base_uri": "https://localhost:8080/",
          "height": 508
        },
        "id": "-01JXIhhA-2A",
        "outputId": "41548e35-a9b9-45eb-b05e-90c0487e0552"
      },
      "outputs": [
        {
          "output_type": "stream",
          "name": "stderr",
          "text": [
            "[Parallel(n_jobs=8)]: Using backend ThreadingBackend with 8 concurrent workers.\n",
            "[Parallel(n_jobs=8)]: Done  14 out of  14 | elapsed:   16.7s finished\n"
          ]
        },
        {
          "output_type": "display_data",
          "data": {
            "text/plain": [
              "<Figure size 640x480 with 1 Axes>"
            ],
            "image/png": "[encoded data removed]"
          },
          "metadata": {}
        }
      ],
      "source": [
        "from sklearn.metrics import roc_curve, auc\n",
        "\n",
        "# Predict probabilities for the test set\n",
        "y_probs = rf_classifier.predict_proba(X_test)[:, 1]  # probabilities for the positive class\n",
        "\n",
        "# Calculate ROC curve and AUC\n",
        "fpr, tpr, thresholds = roc_curve(y_test, y_probs)\n",
        "roc_auc = auc(fpr, tpr)\n",
        "\n",
        "# Plot ROC curve\n",
        "plt.figure()\n",
        "plt.plot(fpr, tpr, color='darkorange', lw=2, label='ROC curve (area = %0.2f)' % roc_auc)\n",
        "plt.plot([0, 1], [0, 1], color='navy', lw=2, linestyle='--')\n",
        "plt.xlim([0.0, 1.0])\n",
        "plt.ylim([0.0, 1.05])\n",
        "plt.xlabel('False Positive Rate')\n",
        "plt.ylabel('True Positive Rate')\n",
        "plt.title('Random Forest: Receiver Operating Characteristic')\n",
        "plt.legend(loc=\"lower right\")\n",
        "plt.show()"
      ]
    },
    {
      "cell_type": "code",
      "execution_count": 12,
      "metadata": {
        "colab": {
          "base_uri": "https://localhost:8080/"
        },
        "id": "8jlV4_0hnOI9",
        "outputId": "1d7ddae7-4542-4e7a-eee3-0c52ad30795c"
      },
      "outputs": [
        {
          "output_type": "stream",
          "name": "stdout",
          "text": [
            "Optimal threshold by Youden’s J: 0.5210131202297283\n",
            "Optimal threshold by Euclidean Distance: 0.6060396560100265\n"
          ]
        }
      ],
      "source": [
        "# Method 1: Youden’s J statistic\n",
        "J = tpr - fpr\n",
        "optimal_idx = np.argmax(J)\n",
        "optimal_threshold = thresholds[optimal_idx]\n",
        "\n",
        "# Method 2: Minimizing the Euclidean distance to the top-left corner\n",
        "distance = np.sqrt((1-tpr)**2 + fpr**2)\n",
        "optimal_idx_distance = np.argmin(distance)\n",
        "optimal_threshold_distance = thresholds[optimal_idx_distance]\n",
        "\n",
        "print(f'Optimal threshold by Youden’s J: {optimal_threshold}')\n",
        "print(f'Optimal threshold by Euclidean Distance: {optimal_threshold_distance}')"
      ]
    },
    {
      "cell_type": "code",
      "execution_count": 13,
      "metadata": {
        "colab": {
          "base_uri": "https://localhost:8080/"
        },
        "id": "lt9_YaXwLYXN",
        "outputId": "38c09c9b-f0d0-47c2-c13a-12499c74f5ba"
      },
      "outputs": [
        {
          "output_type": "stream",
          "name": "stdout",
          "text": [
            "              precision    recall  f1-score   support\n",
            "\n",
            "           0       0.98      0.88      0.93  21184293\n",
            "           1       0.61      0.92      0.73   4145514\n",
            "\n",
            "    accuracy                           0.89  25329807\n",
            "   macro avg       0.80      0.90      0.83  25329807\n",
            "weighted avg       0.92      0.89      0.90  25329807\n",
            "\n"
          ]
        }
      ],
      "source": [
        "print(classification_report(y_test, y_probs>optimal_threshold_distance))"
      ]
    }
  ],
  "metadata": {
    "colab": {
      "machine_shape": "hm",
      "provenance": []
    },
    "kernelspec": {
      "display_name": "Python 3",
      "name": "python3"
    },
    "language_info": {
      "name": "python"
    }
  },
  "nbformat": 4,
  "nbformat_minor": 0
}